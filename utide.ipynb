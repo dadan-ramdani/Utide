{
 "cells": [
  {
   "cell_type": "code",
   "execution_count": 1,
   "metadata": {},
   "outputs": [
    {
     "name": "stdout",
     "output_type": "stream",
     "text": [
      "UTIDE Version = 0.2.6\n"
     ]
    }
   ],
   "source": [
    "'''Tide Calculation using UTide'''\n",
    "import datetime\n",
    "\n",
    "import numpy as np\n",
    "import matplotlib.pyplot as plt\n",
    "import matplotlib.dates as mdates\n",
    "import pandas as pd\n",
    "import tkinter as tk\n",
    "\n",
    "import utide\n",
    "\n",
    "text='UTIDE Version = '+utide.__version__\n",
    "print(text)"
   ]
  },
  {
   "cell_type": "code",
   "execution_count": 2,
   "metadata": {},
   "outputs": [],
   "source": [
    "def date_parser(year, month, day, hour):\n",
    "    year, month, day, hour = map(int, (year, month, day, hour))\n",
    "    return datetime.datetime(year, month, day, hour)\n"
   ]
  },
  {
   "cell_type": "code",
   "execution_count": 3,
   "metadata": {},
   "outputs": [],
   "source": [
    "#% input\n",
    "\n",
    "dt='Maileppet.txt'\n",
    "lt=-1.563597222\n",
    "mtd='robust' #'ols'\n",
    "tzone=7\n",
    "\n",
    "fl0=dt\n",
    "slat=lt\n",
    "\n",
    "# Names of the columns that will be used to make a \"datetime\" column:\n",
    "parse_dates = dict(datetime=['year', 'month', 'day','hour'])\n",
    "\n",
    "'''\n",
    "Names of the original columns in the file, including only the ones we will use; \n",
    "we are skipping the first, which appears to be seconds from the beginning.\n",
    "'''\n",
    "names = ['year', 'month', 'day', 'hour', 'elev', 'flag']\n"
   ]
  },
  {
   "cell_type": "code",
   "execution_count": 4,
   "metadata": {},
   "outputs": [
    {
     "name": "stdout",
     "output_type": "stream",
     "text": [
      "method=robust\n"
     ]
    }
   ],
   "source": [
    "#import from txt to dtf format\n",
    "lat=float(slat)\n",
    "tzone=int(tzone)\n",
    "print('method={}'.format(mtd))\n",
    "from sklearn import metrics\n",
    "from math import sqrt\n",
    "UtdF='../data/'+fl0[0:-4]+'.dtf'\n",
    "fli=open('../data/'+fl0,'r',encoding='cp1252')\n",
    "flo=open(UtdF,'w')\n",
    "i=1\n",
    "for ln in fli:\n",
    "    if ln[0].isnumeric():\n",
    "        fl1=ln.split(' ')\n",
    "        fl2=fl1[0].split('/')\n",
    "        fl3=fl1[1].split(':')\n",
    "        rval=float(fl1[2])/100\n",
    "        cday = '%2d' % int(fl2[0])\n",
    "        cmonth = '%2d' % int(fl2[1])\n",
    "        cyear = '%4d' % int(fl2[2])\n",
    "        chour = '%2d.0000' % int(fl3[0])\n",
    "        buf = '%6d'% i +' '+cyear+' '+cmonth+' '+cday+' '+chour+' %7.4f' % rval+' 0\\n'\n",
    "        flo.write(buf)\n",
    "        i=i+1\n",
    "fli.close()\n",
    "flo.close()\n"
   ]
  },
  {
   "cell_type": "code",
   "execution_count": 5,
   "metadata": {},
   "outputs": [
    {
     "name": "stdout",
     "output_type": "stream",
     "text": [
      "0 points were flagged \"bad\" and interpolated\n",
      "0 points were flagged \"corrected\" and left unchanged\n"
     ]
    }
   ],
   "source": [
    "\n",
    "obs = pd.read_table(UtdF,\n",
    "                    sep=' ',\n",
    "                    names=names,\n",
    "                    skipinitialspace=True,\n",
    "                    #delim_whitespace=True,\n",
    "                    index_col='datetime',\n",
    "                    usecols=range(1, 7),\n",
    "                    na_values='999.999',\n",
    "                    parse_dates=parse_dates,\n",
    "                    date_parser=date_parser,\n",
    "                   )\n",
    "bad = obs['flag'] == 2\n",
    "corrected = obs['flag'] == 1\n",
    "\n",
    "obs.loc[bad, 'elev'] = np.nan\n",
    "Mobs=obs['elev'].mean()\n",
    "obs['anomaly'] = obs['elev'] - Mobs\n",
    "\n",
    "# tide's data interpolation \n",
    "obs['anomaly'] = obs['anomaly'].interpolate() + Mobs\n",
    "print('{} points were flagged \"bad\" and interpolated'.format(bad.sum()))\n",
    "print('{} points were flagged \"corrected\" and left unchanged'.format(corrected.sum()))\n",
    "\n",
    "#time conversioan to UTC\n",
    "time = mdates.date2num(obs.index.to_pydatetime())-tzone/24\n",
    "\n"
   ]
  },
  {
   "cell_type": "code",
   "execution_count": 6,
   "metadata": {},
   "outputs": [
    {
     "name": "stdout",
     "output_type": "stream",
     "text": [
      "solve: matrix prep ... solution ... done.\n",
      "prep/calcs ... done.\n"
     ]
    }
   ],
   "source": [
    "'''\n",
    "Definition : solve(t, u, v=None, lat=None, **opts)\n",
    "\n",
    "Calculate amplitude, phase, confidence intervals of tidal constituents.\n",
    "\n",
    "Parameters\n",
    "\n",
    "t: array_like\n",
    "Time in days since epoch.\n",
    "\n",
    "u: array_like\n",
    "Sea-surface height, velocity component, etc.\n",
    "\n",
    "v: {None, array_like}, optional\n",
    "If u is a velocity component, v is the orthogonal component.\n",
    "\n",
    "lat: float, required\n",
    "Latitude in degrees.\n",
    "\n",
    "epoch: {string, datetime.date, datetime.datetime}, optional\n",
    "Valid strings are 'python' (default); 'matlab' if t is an array of Matlab datenums; \n",
    "or an arbitrary date in the form 'YYYY-MM-DD'. \n",
    "The default corresponds to the Python standard library datetime proleptic Gregorian calendar, \n",
    "starting with 1 at 00:00 on January 1 of year 1; this is the 'datenum' used by Matplotlib.\n",
    "\n",
    "constit: {'auto', array_like}, optional\n",
    "List of strings with standard letter abbreviations of tidal constituents; \n",
    "or 'auto' to let the list be determined based on the time span.\n",
    "\n",
    "conf_int: {'linear', 'MC', 'none'}, optional\n",
    "If not 'none' (string), calculate linearized confidence intervals, or use a Monte-Carlo simulation.\n",
    "\n",
    "method: {'ols', 'robust'}, optional\n",
    "Solve with ordinary least squares, or with a robust algorithm.\n",
    "\n",
    "trend: bool, optional\n",
    "True (default) to include a linear trend in the model.\n",
    "\n",
    "phase: {'Greenwich', 'linear_time', 'raw'}, optional\n",
    "Give Greenwich-referenced phase lags, an approximation using linearized times, or raw lags.\n",
    "\n",
    "nodal: {True, False, 'linear_time'}, optional\n",
    "True (default) to include nodal/satellite corrections; \n",
    "'linear_time' to use the linearized time approximation; \n",
    "False to omit nodal corrections.\n",
    "'''\n",
    "\n",
    "coef = utide.solve(t=time, u=obs['anomaly'].values,\n",
    "                   v=None,\n",
    "                   lat=lat,\n",
    "                   method=mtd,\n",
    "                   conf_int='MC')\n",
    "\n",
    "#print(coef.keys())\n",
    "tide = utide.reconstruct(time, coef)"
   ]
  },
  {
   "cell_type": "code",
   "execution_count": 7,
   "metadata": {},
   "outputs": [
    {
     "name": "stdout",
     "output_type": "stream",
     "text": [
      "\n",
      "\n",
      "Coef    A       A_ci      phase     phase_ci \n",
      "M2    0.37679  0.00108  244.08808    0.16365\n",
      "S2    0.15066  0.00100  166.60473    0.37933\n",
      "K1    0.12643  0.00091   72.34536    0.39672\n",
      "N2    0.08012  0.00126   84.46351    0.91033\n",
      "O1    0.06737  0.00100  169.94756    0.88417\n",
      "SSA   0.05441  0.00791  129.49158   10.64312\n",
      "P1    0.03952  0.00086   66.31339    1.12222\n",
      "MM    0.03253  0.00799  198.08092   16.08363\n",
      "K2    0.02891  0.00113  169.74935    2.49960\n",
      "MSM   0.02737  0.00897   43.74340   20.24305\n",
      "MF    0.01998  0.00877  254.21726   26.65163\n",
      "M4    0.01941  0.00139  209.99390    3.86054\n",
      "NU2   0.01844  0.00109  124.69701    3.52024\n",
      "MU2   0.01642  0.00113  351.13206    3.79600\n",
      "Q1    0.01507  0.00099   16.48255    3.00869\n",
      "2N2   0.01214  0.00104  274.84992    5.42677\n",
      "MSF   0.01101  0.00896   85.38370   50.01932\n",
      "L2    0.01091  0.00110   17.45526    5.31153\n",
      "MS4   0.00964  0.00129  210.77066    7.66567\n",
      "J1    0.00916  0.00094  192.94570    5.46851\n",
      "MN4   0.00693  0.00114   29.25317   12.81539\n",
      "NO1   0.00586  0.00079  293.51519    8.13280\n",
      "M3    0.00553  0.00061  196.43512    6.15102\n",
      "OO1   0.00452  0.00092  351.52262   10.47654\n",
      "EPS2  0.00442  0.00105  196.51297   14.29444\n",
      "SK3   0.00439  0.00059   56.66046    7.55827\n",
      "SO1   0.00379  0.00095  279.89518   13.11522\n",
      "2Q1   0.00357  0.00093  208.06687   14.34470\n",
      "OQ2   0.00319  0.00111   57.67584   21.34812\n",
      "THE1  0.00301  0.00104  213.31667   18.70660\n",
      "MKS2  0.00297  0.00113  305.30457   18.74566\n",
      "SIG1  0.00293  0.00101  226.49946   21.32203\n",
      "LDA2  0.00278  0.00117  344.80688   20.84128\n",
      "MK3   0.00268  0.00056  222.28929   13.06977\n",
      "CHI1  0.00266  0.00102   39.54853   18.59906\n",
      "MSN2  0.00265  0.00119   75.67716   24.05416\n",
      "ETA2  0.00238  0.00107  346.35374   24.53298\n",
      "RHO1  0.00218  0.00078   65.98555   25.78768\n",
      "S4    0.00213  0.00148  330.53389   33.03759\n",
      "PHI1  0.00196  0.00084  306.54448   23.13170\n",
      "SO3   0.00195  0.00056  210.26308   18.04020\n",
      "2MN6  0.00184  0.00037  277.76010   12.53388\n",
      "SN4   0.00164  0.00098   35.85728   41.93922\n",
      "MO3   0.00157  0.00054  231.86518   19.45690\n",
      "SK4   0.00135  0.00134  329.96180   59.66820\n",
      "MSK6  0.00126  0.00036  139.61343   16.16514\n",
      "BET1  0.00119  0.00106  188.17407   43.97650\n",
      "ALP1  0.00115  0.00086   56.96562   46.54862\n",
      "M6    0.00110  0.00042  187.45259   19.09946\n",
      "TAU1  0.00106  0.00082  290.53804   47.73665\n",
      "2MS6  0.00076  0.00038  187.37752   24.71097\n",
      "M8    0.00070  0.00018  124.70290   15.31633\n",
      "3MK7  0.00064  0.00020  237.23597   20.76042\n",
      "2MK5  0.00053  0.00037  125.32663   39.17941\n",
      "UPS1  0.00052  0.00074  154.76514   97.98196\n",
      "2SM6  0.00035  0.00032  129.68257   57.93034\n",
      "2SK5  0.00025  0.00032   16.94695   75.92034\n",
      "MK4   0.00022  0.00092  244.91790  217.38624\n",
      "2MK6  0.00021  0.00031  229.33257   83.32910\n",
      "\n",
      "\n",
      "\n",
      "Z0=  0.955 m\n"
     ]
    }
   ],
   "source": [
    "#print(tide.keys())\n",
    "\n",
    "print('\\n')\n",
    "flo=open('../out/'+UtdF[8:-4]+'_'+mtd+'.coe','w')\n",
    "\n",
    "ig=len(coef['name'])\n",
    "print('{:4s} {:^8s} {:^8s}  {:^10s} {:^10s}'.format('Coef','A','A_ci','phase','phase_ci'))\n",
    "flo.write('{:4s} {:^8s} {:^8s} {:^10s} {:^10s} \\n'.format('Coef','A','A_ci','g','g_ci'))\n",
    "for i in range(ig):\n",
    "    print('{:4s} {:8.5f} {:8.5f} {:10.5f} {:10.5f}'.format(coef['name'][i],coef['A'][i],coef['A_ci'][i],coef['g'][i],coef['g_ci'][i]))\n",
    "    flo.write('{:4s} {:8.5f} {:8.5f} {:10.5f} {:10.5f}\\n'.format(coef['name'][i],coef['A'][i],coef['A_ci'][i],coef['g'][i],coef['g_ci'][i]))\n",
    "print('\\n\\n')\n",
    "print('Z0= {:6.3f} m'.format(Mobs))"
   ]
  },
  {
   "cell_type": "code",
   "execution_count": 8,
   "metadata": {},
   "outputs": [
    {
     "data": {
      "image/png": "[encoded data removed]",
      "text/plain": [
       "<Figure size 432x288 with 3 Axes>"
      ]
     },
     "metadata": {
      "needs_background": "light"
     },
     "output_type": "display_data"
    }
   ],
   "source": [
    "#t = obs.index.values  # dtype is '<M8[ns]' (numpy datetime64)\n",
    "# It is more efficient to supply the time directly as matplotlib\n",
    "# datenum floats:\n",
    "\n",
    "t = tide.t_mpl\n",
    "res=obs.elev - tide.h\n",
    "fig, (ax0, ax1, ax2) = plt.subplots(nrows=3, sharex=True)\n",
    "ax0.plot(t, obs.elev, label=u'Observations', color='C0')\n",
    "ax1.plot(t, tide.h, label=u'Tide Fit', color='C1')\n",
    "ax2.plot(t, res, label=u'Residual', color='C2')\n",
    "ax2.xaxis_date()\n",
    "fig.legend(ncol=3, loc='lower center')\n",
    "fig.autofmt_xdate()\n",
    "fig.suptitle('Comparison observation data\\nwith UTide in Station' +UtdF[8:-4]+'\\n\\n', fontsize=16)\n",
    "fig.savefig('../out/'+UtdF[8:-4]+'_'+mtd+'.png')"
   ]
  },
  {
   "cell_type": "code",
   "execution_count": 9,
   "metadata": {},
   "outputs": [
    {
     "name": "stdout",
     "output_type": "stream",
     "text": [
      "Std Dev=  0.085\n",
      "rmse   =  0.085\n",
      "\n",
      "\n",
      "\n"
     ]
    }
   ],
   "source": [
    "print('Std Dev= {:6.3f}'.format(res.std()))\n",
    "\n",
    "mse=metrics.mean_squared_error(np.array(obs.anomaly) , tide.h)\n",
    "\n",
    "print('rmse   = {:6.3f}'.format(sqrt(mse)))\n",
    "print('\\n\\n')"
   ]
  },
  {
   "cell_type": "code",
   "execution_count": 10,
   "metadata": {},
   "outputs": [
    {
     "name": "stdout",
     "output_type": "stream",
     "text": [
      "prep/calcs ... done.\n"
     ]
    }
   ],
   "source": [
    "a=datetime.date(2019,1,1).toordinal()-719163.0\n",
    "b=datetime.date(2020,1,1).toordinal()-719163.0\n",
    "times=np.arange(float(a),float(b),1/24)\n",
    "\n",
    "tides = utide.reconstruct(times, coef)\n",
    "t = tides.t_mpl"
   ]
  },
  {
   "cell_type": "code",
   "execution_count": 11,
   "metadata": {},
   "outputs": [
    {
     "data": {
      "image/png": "[encoded data removed]",
      "text/plain": [
       "<Figure size 432x288 with 1 Axes>"
      ]
     },
     "metadata": {
      "needs_background": "light"
     },
     "output_type": "display_data"
    }
   ],
   "source": [
    " \n",
    "fig, (ax0) = plt.subplots(nrows=1, sharey=True, sharex=True)\n",
    "ax0.plot(t, tides.h, label=u'Tide Prediction', color='C1')\n",
    "ax0.xaxis_date()\n",
    "fig.autofmt_xdate()\n",
    "fig.suptitle('Tide Prediction with UTide in Station ' +UtdF[8:-4], fontsize=16)\n",
    "fig.savefig('../out/'+UtdF[8:-4]+'_'+mtd+'_P.png')"
   ]
  },
  {
   "cell_type": "code",
   "execution_count": 12,
   "metadata": {},
   "outputs": [
    {
     "name": "stdout",
     "output_type": "stream",
     "text": [
      "Minimum=  0.190 m\n",
      "Maximum=  1.870 m\n",
      "Mean   =  0.955 m\n",
      "\n",
      "\n",
      "\n",
      "Minimum=  0.247 m\n",
      "Maximum=  1.819 m\n",
      "Mean   =  0.954 m\n",
      "\n",
      "\n",
      "rmse   =  0.085 m\n"
     ]
    }
   ],
   "source": [
    "print('Minimum= {:6.3f} m'.format(obs.elev.min())) \n",
    "print('Maximum= {:6.3f} m'.format(obs.elev.max())) \n",
    "print('Mean   = {:6.3f} m'.format(Mobs))\n",
    "print('\\n\\n')\n",
    "print('Minimum= {:6.3f} m'.format(tides.h.min())) \n",
    "print('Maximum= {:6.3f} m'.format(tides.h.max())) \n",
    "print('Mean   = {:6.3f} m\\n\\n'.format(tides.h.mean()))\n",
    "print('rmse   = {:6.3f} m'.format(sqrt(mse)))"
   ]
  },
  {
   "cell_type": "code",
   "execution_count": 13,
   "metadata": {},
   "outputs": [],
   "source": [
    "flo.write('\\n\\n')\n",
    "flo.write('Std Dev= {:6.3f}\\n'.format(res.std()))\n",
    "flo.write('rmse   = {:6.3f}\\n'.format(sqrt(mse)))\n",
    "flo.write('\\n\\n')\n",
    "flo.write('Minimum= {:6.3f}\\n'.format(tide.h.min())) \n",
    "flo.write('Maximum= {:6.3f}\\n'.format(tide.h.max())) \n",
    "flo.write('Mean   = {:6.3f}\\n'.format(tide.h.mean()))\n",
    "flo.write('Minimum= {:6.3f}\\n'.format(tides.h.min())) \n",
    "flo.write('Maximum= {:6.3f}\\n'.format(tides.h.max())) \n",
    "flo.write('Mean   = {:6.3f}\\n'.format(tides.h.mean()))\n",
    "flo.close()"
   ]
  },
  {
   "cell_type": "code",
   "execution_count": null,
   "metadata": {},
   "outputs": [],
   "source": []
  }
 ],
 "metadata": {
  "celltoolbar": "Attachments",
  "kernelspec": {
   "display_name": "Python 3",
   "language": "python",
   "name": "python3"
  },
  "language_info": {
   "codemirror_mode": {
    "name": "ipython",
    "version": 3
   },
   "file_extension": ".py",
   "mimetype": "text/x-python",
   "name": "python",
   "nbconvert_exporter": "python",
   "pygments_lexer": "ipython3",
   "version": "3.8.5"
  }
 },
 "nbformat": 4,
 "nbformat_minor": 4
}
